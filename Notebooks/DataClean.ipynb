{
 "cells": [
  {
   "cell_type": "markdown",
   "id": "c4c0daf7",
   "metadata": {},
   "source": [
    "[![UAEM](https://www.uaem.mx/fcaei/images/uaem.png)](https://www.uaem.mx/fcaei/moca.html)\n",
    "[![Python 3.9](https://img.shields.io/badge/Python-3.9-blue.svg)](https://www.python.org/downloads/release/python-390/)\n",
    "[![Maintenance](https://img.shields.io/badge/Maintained%3F-yes-green.svg)](https://github.com/your-username/your-repo)\n",
    "\n",
    "# Notebook para Carga, Limpieza y Procesamiento de Datos\n",
    "\n",
    "**Autor:** [Emiliano Rodriguez Villegas](https://github.com/EmilianoRdzV)\n",
    "**Fecha:** 05 de Junio de 2025\n",
    "**Versión:** 1.0\n",
    "\n",
    "---\n",
    "\n",
    "Este notebook te guiará a través de los pasos iniciales de un proyecto de análisis de datos, cubriendo:\n",
    "\n",
    "* **Carga de Documentación:** Cómo importar tus conjuntos de datos al notebook.\n",
    "* **Limpieza de Datos:** Técnicas para manejar valores faltantes, corregir inconsistencias y preparar tus datos para el análisis.\n",
    "* **Procesamiento de Datos:** Transformación y manipulación de tus datos para extraer información significativa.\n",
    "\n",
    "---\n",
    "\n",
    "### Contenido\n",
    "\n",
    "1.  [Introducción](#introducción)\n",
    "2.  [Carga de Datos](#carga-de-datos)\n",
    "3.  [Exploración Inicial](#exploración-inicial)\n",
    "4.  [Limpieza de Datos](#limpieza-de-datos)\n",
    "5.  [Procesamiento y Transformación](#procesamiento-y-transformación)\n",
    "6.  [Análisis y Visualización](#análisis-y-visualización)\n",
    "7.  [Conclusiones](#conclusiones)"
   ]
  },
  {
   "cell_type": "markdown",
   "id": "c4e1f966",
   "metadata": {},
   "source": [
    "### Carga de Datos"
   ]
  },
  {
   "cell_type": "code",
   "execution_count": 100,
   "id": "09c2a417",
   "metadata": {},
   "outputs": [
    {
     "name": "stdout",
     "output_type": "stream",
     "text": [
      "                        Date      City     CO  CO2   NO2  SO2    O3  PM2.5  \\\n",
      "0  2024-01-01 00:00:00+00:00  Brasilia  323.0  NaN  23.8  2.8  42.0   12.0   \n",
      "1  2024-01-01 01:00:00+00:00  Brasilia  318.0  NaN  21.9  2.7  40.0   12.5   \n",
      "2  2024-01-01 02:00:00+00:00  Brasilia  309.0  NaN  19.2  2.6  39.0   12.1   \n",
      "3  2024-01-01 03:00:00+00:00  Brasilia  295.0  NaN  16.3  2.4  38.0   11.4   \n",
      "4  2024-01-01 04:00:00+00:00  Brasilia  270.0  NaN  13.0  2.1  40.0   10.2   \n",
      "\n",
      "   PM10        AQI  \n",
      "0  17.1  16.800000  \n",
      "1  17.9  16.000000  \n",
      "2  17.3  15.599999  \n",
      "3  16.2  15.200000  \n",
      "4  14.6  16.000000  \n"
     ]
    }
   ],
   "source": [
    "import pandas as pd \n",
    "\n",
    "rutaDatos = '../Data/Air_Quality.csv'\n",
    "dataFrame = pd.read_csv(rutaDatos)\n",
    "\n",
    "#Info bascia para observar el paronama de los datos\n",
    "print (dataFrame.head())\n"
   ]
  },
  {
   "cell_type": "markdown",
   "id": "07abeb3f",
   "metadata": {},
   "source": [
    "### Inspeccion inicial del Data Frame \n",
    "Vision general de los datos"
   ]
  },
  {
   "cell_type": "code",
   "execution_count": 101,
   "id": "dff1d125",
   "metadata": {},
   "outputs": [
    {
     "name": "stdout",
     "output_type": "stream",
     "text": [
      "<class 'pandas.core.frame.DataFrame'>\n",
      "RangeIndex: 52704 entries, 0 to 52703\n",
      "Data columns (total 10 columns):\n",
      " #   Column  Non-Null Count  Dtype  \n",
      "---  ------  --------------  -----  \n",
      " 0   Date    52704 non-null  object \n",
      " 1   City    52704 non-null  object \n",
      " 2   CO      52704 non-null  float64\n",
      " 3   CO2     9648 non-null   float64\n",
      " 4   NO2     52704 non-null  float64\n",
      " 5   SO2     52704 non-null  float64\n",
      " 6   O3      52704 non-null  float64\n",
      " 7   PM2.5   52704 non-null  float64\n",
      " 8   PM10    52704 non-null  float64\n",
      " 9   AQI     52704 non-null  float64\n",
      "dtypes: float64(8), object(2)\n",
      "memory usage: 4.0+ MB\n",
      "None\n",
      "<bound method NDFrame.describe of                             Date      City     CO    CO2   NO2   SO2    O3  \\\n",
      "0      2024-01-01 00:00:00+00:00  Brasilia  323.0    NaN  23.8   2.8  42.0   \n",
      "1      2024-01-01 01:00:00+00:00  Brasilia  318.0    NaN  21.9   2.7  40.0   \n",
      "2      2024-01-01 02:00:00+00:00  Brasilia  309.0    NaN  19.2   2.6  39.0   \n",
      "3      2024-01-01 03:00:00+00:00  Brasilia  295.0    NaN  16.3   2.4  38.0   \n",
      "4      2024-01-01 04:00:00+00:00  Brasilia  270.0    NaN  13.0   2.1  40.0   \n",
      "...                          ...       ...    ...    ...   ...   ...   ...   \n",
      "52699  2024-12-31 19:00:00+00:00    Sydney  106.0  448.0  15.5   6.4  26.0   \n",
      "52700  2024-12-31 20:00:00+00:00    Sydney  112.0  449.0  15.7   8.3  29.0   \n",
      "52701  2024-12-31 21:00:00+00:00    Sydney  115.0  449.0  14.7   9.8  36.0   \n",
      "52702  2024-12-31 22:00:00+00:00    Sydney  113.0  447.0  11.8  10.7  53.0   \n",
      "52703  2024-12-31 23:00:00+00:00    Sydney  107.0  443.0   7.8  11.3  74.0   \n",
      "\n",
      "       PM2.5  PM10        AQI  \n",
      "0       12.0  17.1  16.800000  \n",
      "1       12.5  17.9  16.000000  \n",
      "2       12.1  17.3  15.599999  \n",
      "3       11.4  16.2  15.200000  \n",
      "4       10.2  14.6  16.000000  \n",
      "...      ...   ...        ...  \n",
      "52699    9.7  13.0  19.199997  \n",
      "52700   11.1  13.6  19.183330  \n",
      "52701   11.5  15.1  19.274998  \n",
      "52702   11.6  15.7  21.199999  \n",
      "52703   12.6  17.1  29.600000  \n",
      "\n",
      "[52704 rows x 10 columns]>\n"
     ]
    }
   ],
   "source": [
    "print (dataFrame.info())\n",
    "print (dataFrame.describe)"
   ]
  },
  {
   "cell_type": "markdown",
   "id": "2f2d287d",
   "metadata": {},
   "source": [
    "### Corregir el formato de la columna de fecha \n",
    "Convertiremos la columna de fecha al tipo `datetime`, despues se convertira en el index del Data Frame "
   ]
  },
  {
   "cell_type": "code",
   "execution_count": null,
   "id": "b2eeda12",
   "metadata": {},
   "outputs": [
    {
     "name": "stdout",
     "output_type": "stream",
     "text": [
      "--- Info después de procesar la fecha ---\n",
      "<class 'pandas.core.frame.DataFrame'>\n",
      "DatetimeIndex: 52704 entries, 2024-01-01 00:00:00+00:00 to 2024-12-31 23:00:00+00:00\n",
      "Data columns (total 9 columns):\n",
      " #   Column  Non-Null Count  Dtype  \n",
      "---  ------  --------------  -----  \n",
      " 0   City    52704 non-null  object \n",
      " 1   CO      52704 non-null  float64\n",
      " 2   CO2     9648 non-null   float64\n",
      " 3   NO2     52704 non-null  float64\n",
      " 4   SO2     52704 non-null  float64\n",
      " 5   O3      52704 non-null  float64\n",
      " 6   PM2.5   52704 non-null  float64\n",
      " 7   PM10    52704 non-null  float64\n",
      " 8   AQI     52704 non-null  float64\n",
      "dtypes: float64(8), object(1)\n",
      "memory usage: 4.0+ MB\n",
      "\n",
      "--- DataFrame con índice de fecha ---\n"
     ]
    },
    {
     "data": {
      "application/vnd.microsoft.datawrangler.viewer.v0+json": {
       "columns": [
        {
         "name": "Date",
         "rawType": "datetime64[ns, UTC]",
         "type": "unknown"
        },
        {
         "name": "City",
         "rawType": "object",
         "type": "string"
        },
        {
         "name": "CO",
         "rawType": "float64",
         "type": "float"
        },
        {
         "name": "CO2",
         "rawType": "float64",
         "type": "float"
        },
        {
         "name": "NO2",
         "rawType": "float64",
         "type": "float"
        },
        {
         "name": "SO2",
         "rawType": "float64",
         "type": "float"
        },
        {
         "name": "O3",
         "rawType": "float64",
         "type": "float"
        },
        {
         "name": "PM2.5",
         "rawType": "float64",
         "type": "float"
        },
        {
         "name": "PM10",
         "rawType": "float64",
         "type": "float"
        },
        {
         "name": "AQI",
         "rawType": "float64",
         "type": "float"
        }
       ],
       "ref": "4ca33110-a8de-4466-9985-41146089ea6a",
       "rows": [
        [
         "2024-01-01 00:00:00+00:00",
         "Brasilia",
         "323.0",
         null,
         "23.8",
         "2.8",
         "42.0",
         "12.0",
         "17.1",
         "16.8"
        ],
        [
         "2024-01-01 01:00:00+00:00",
         "Brasilia",
         "318.0",
         null,
         "21.9",
         "2.7",
         "40.0",
         "12.5",
         "17.9",
         "16.0"
        ],
        [
         "2024-01-01 02:00:00+00:00",
         "Brasilia",
         "309.0",
         null,
         "19.2",
         "2.6",
         "39.0",
         "12.1",
         "17.3",
         "15.599999"
        ],
        [
         "2024-01-01 03:00:00+00:00",
         "Brasilia",
         "295.0",
         null,
         "16.3",
         "2.4",
         "38.0",
         "11.4",
         "16.2",
         "15.2"
        ],
        [
         "2024-01-01 04:00:00+00:00",
         "Brasilia",
         "270.0",
         null,
         "13.0",
         "2.1",
         "40.0",
         "10.2",
         "14.6",
         "16.0"
        ]
       ],
       "shape": {
        "columns": 9,
        "rows": 5
       }
      },
      "text/html": [
       "<div>\n",
       "<style scoped>\n",
       "    .dataframe tbody tr th:only-of-type {\n",
       "        vertical-align: middle;\n",
       "    }\n",
       "\n",
       "    .dataframe tbody tr th {\n",
       "        vertical-align: top;\n",
       "    }\n",
       "\n",
       "    .dataframe thead th {\n",
       "        text-align: right;\n",
       "    }\n",
       "</style>\n",
       "<table border=\"1\" class=\"dataframe\">\n",
       "  <thead>\n",
       "    <tr style=\"text-align: right;\">\n",
       "      <th></th>\n",
       "      <th>City</th>\n",
       "      <th>CO</th>\n",
       "      <th>CO2</th>\n",
       "      <th>NO2</th>\n",
       "      <th>SO2</th>\n",
       "      <th>O3</th>\n",
       "      <th>PM2.5</th>\n",
       "      <th>PM10</th>\n",
       "      <th>AQI</th>\n",
       "    </tr>\n",
       "    <tr>\n",
       "      <th>Date</th>\n",
       "      <th></th>\n",
       "      <th></th>\n",
       "      <th></th>\n",
       "      <th></th>\n",
       "      <th></th>\n",
       "      <th></th>\n",
       "      <th></th>\n",
       "      <th></th>\n",
       "      <th></th>\n",
       "    </tr>\n",
       "  </thead>\n",
       "  <tbody>\n",
       "    <tr>\n",
       "      <th>2024-01-01 00:00:00+00:00</th>\n",
       "      <td>Brasilia</td>\n",
       "      <td>323.0</td>\n",
       "      <td>NaN</td>\n",
       "      <td>23.8</td>\n",
       "      <td>2.8</td>\n",
       "      <td>42.0</td>\n",
       "      <td>12.0</td>\n",
       "      <td>17.1</td>\n",
       "      <td>16.800000</td>\n",
       "    </tr>\n",
       "    <tr>\n",
       "      <th>2024-01-01 01:00:00+00:00</th>\n",
       "      <td>Brasilia</td>\n",
       "      <td>318.0</td>\n",
       "      <td>NaN</td>\n",
       "      <td>21.9</td>\n",
       "      <td>2.7</td>\n",
       "      <td>40.0</td>\n",
       "      <td>12.5</td>\n",
       "      <td>17.9</td>\n",
       "      <td>16.000000</td>\n",
       "    </tr>\n",
       "    <tr>\n",
       "      <th>2024-01-01 02:00:00+00:00</th>\n",
       "      <td>Brasilia</td>\n",
       "      <td>309.0</td>\n",
       "      <td>NaN</td>\n",
       "      <td>19.2</td>\n",
       "      <td>2.6</td>\n",
       "      <td>39.0</td>\n",
       "      <td>12.1</td>\n",
       "      <td>17.3</td>\n",
       "      <td>15.599999</td>\n",
       "    </tr>\n",
       "    <tr>\n",
       "      <th>2024-01-01 03:00:00+00:00</th>\n",
       "      <td>Brasilia</td>\n",
       "      <td>295.0</td>\n",
       "      <td>NaN</td>\n",
       "      <td>16.3</td>\n",
       "      <td>2.4</td>\n",
       "      <td>38.0</td>\n",
       "      <td>11.4</td>\n",
       "      <td>16.2</td>\n",
       "      <td>15.200000</td>\n",
       "    </tr>\n",
       "    <tr>\n",
       "      <th>2024-01-01 04:00:00+00:00</th>\n",
       "      <td>Brasilia</td>\n",
       "      <td>270.0</td>\n",
       "      <td>NaN</td>\n",
       "      <td>13.0</td>\n",
       "      <td>2.1</td>\n",
       "      <td>40.0</td>\n",
       "      <td>10.2</td>\n",
       "      <td>14.6</td>\n",
       "      <td>16.000000</td>\n",
       "    </tr>\n",
       "  </tbody>\n",
       "</table>\n",
       "</div>"
      ],
      "text/plain": [
       "                               City     CO  CO2   NO2  SO2    O3  PM2.5  PM10  \\\n",
       "Date                                                                            \n",
       "2024-01-01 00:00:00+00:00  Brasilia  323.0  NaN  23.8  2.8  42.0   12.0  17.1   \n",
       "2024-01-01 01:00:00+00:00  Brasilia  318.0  NaN  21.9  2.7  40.0   12.5  17.9   \n",
       "2024-01-01 02:00:00+00:00  Brasilia  309.0  NaN  19.2  2.6  39.0   12.1  17.3   \n",
       "2024-01-01 03:00:00+00:00  Brasilia  295.0  NaN  16.3  2.4  38.0   11.4  16.2   \n",
       "2024-01-01 04:00:00+00:00  Brasilia  270.0  NaN  13.0  2.1  40.0   10.2  14.6   \n",
       "\n",
       "                                 AQI  \n",
       "Date                                  \n",
       "2024-01-01 00:00:00+00:00  16.800000  \n",
       "2024-01-01 01:00:00+00:00  16.000000  \n",
       "2024-01-01 02:00:00+00:00  15.599999  \n",
       "2024-01-01 03:00:00+00:00  15.200000  \n",
       "2024-01-01 04:00:00+00:00  16.000000  "
      ]
     },
     "metadata": {},
     "output_type": "display_data"
    }
   ],
   "source": [
    "# Columna de texto a un objeto de fecha y hora (datetime)\n",
    "dataFrame['Date'] = pd.to_datetime(dataFrame['Date'])\n",
    "\n",
    "# Establece la columna 'Date' como el nuevo índice del DataFrame\n",
    "dataFrame.set_index('Date', inplace=True)\n",
    "\n",
    "# Verificamos que el cambio se haya realizado correctamente\n",
    "print(\"--- Info después de procesar la fecha ---\")\n",
    "dataFrame.info()\n",
    "\n",
    "print(\"\\n--- DataFrame con índice de fecha ---\")\n",
    "display(dataFrame.head())"
   ]
  },
  {
   "cell_type": "markdown",
   "id": "3d511897",
   "metadata": {},
   "source": [
    "### Manejo de valores nulos \n",
    "Identificaremos y rellenaremos cualquier dato faltante en los datos usando el método  de interpolación"
   ]
  },
  {
   "cell_type": "code",
   "execution_count": 103,
   "id": "9be07048",
   "metadata": {},
   "outputs": [
    {
     "name": "stdout",
     "output_type": "stream",
     "text": [
      "--- Conteo de valores nulos ANTES del tratamiento ---\n",
      "City         0\n",
      "CO           0\n",
      "CO2      43056\n",
      "NO2          0\n",
      "SO2          0\n",
      "O3           0\n",
      "PM2.5        0\n",
      "PM10         0\n",
      "AQI          0\n",
      "dtype: int64\n",
      "\n",
      "--- Conteo de valores nulos DESPUÉS del tratamiento ---\n",
      "City        0\n",
      "CO          0\n",
      "CO2      7176\n",
      "NO2         0\n",
      "SO2         0\n",
      "O3          0\n",
      "PM2.5       0\n",
      "PM10        0\n",
      "AQI         0\n",
      "dtype: int64\n"
     ]
    },
    {
     "name": "stderr",
     "output_type": "stream",
     "text": [
      "C:\\Users\\evrdz\\AppData\\Local\\Temp\\ipykernel_8800\\3119580352.py:6: FutureWarning: DataFrame.interpolate with object dtype is deprecated and will raise in a future version. Call obj.infer_objects(copy=False) before interpolating instead.\n",
      "  dataFrame.interpolate(method='linear', inplace=True)\n"
     ]
    }
   ],
   "source": [
    "# Contamos cuántos valores nulos por columna\n",
    "print(\"--- Conteo de valores nulos ANTES del tratamiento ---\")\n",
    "print(dataFrame.isnull().sum())\n",
    "\n",
    "# Interpolar los valores nulos\n",
    "dataFrame.interpolate(method='linear', inplace=True)\n",
    "\n",
    "# Volver a contar para la comprobacion\n",
    "print(\"\\n--- Conteo de valores nulos DESPUÉS del tratamiento ---\")\n",
    "print(dataFrame.isnull().sum())"
   ]
  },
  {
   "cell_type": "markdown",
   "id": "ced57d55",
   "metadata": {},
   "source": [
    "### Guardamos el Data Frame ya procesado"
   ]
  },
  {
   "cell_type": "code",
   "execution_count": 104,
   "id": "543c9c0e",
   "metadata": {},
   "outputs": [
    {
     "name": "stdout",
     "output_type": "stream",
     "text": [
      "\n",
      "¡Proceso de limpieza completado!\n",
      "Los datos limpios se han guardado en: '../Data/AirQualityCleaned.csv'\n"
     ]
    }
   ],
   "source": [
    "# Define la ruta para el nuevo archivo CSV limpio (variable en camelCase, nombre de archivo en PascalCase)\n",
    "rutaArchivoLimpio = '../Data/AirQualityCleaned.csv'\n",
    "\n",
    "# Guarda el Data Frame actual (limpio y procesado) \n",
    "# index=True asegura que la columna de fecha se guarde en el archivo\n",
    "dataFrame.to_csv(rutaArchivoLimpio, index=True)\n",
    "\n",
    "print(f\"\\n¡Proceso de limpieza completado!\")\n",
    "print(f\"Los datos limpios se han guardado en: '{rutaArchivoLimpio}'\")"
   ]
  }
 ],
 "metadata": {
  "kernelspec": {
   "display_name": "base",
   "language": "python",
   "name": "python3"
  },
  "language_info": {
   "codemirror_mode": {
    "name": "ipython",
    "version": 3
   },
   "file_extension": ".py",
   "mimetype": "text/x-python",
   "name": "python",
   "nbconvert_exporter": "python",
   "pygments_lexer": "ipython3",
   "version": "3.12.7"
  }
 },
 "nbformat": 4,
 "nbformat_minor": 5
}
