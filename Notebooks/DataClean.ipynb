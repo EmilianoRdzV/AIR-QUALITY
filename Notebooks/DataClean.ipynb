{
 "cells": [
  {
   "cell_type": "code",
   "execution_count": 5,
   "id": "09c2a417",
   "metadata": {},
   "outputs": [
    {
     "name": "stdout",
     "output_type": "stream",
     "text": [
      "                        Date      City     CO  CO2   NO2  SO2    O3  PM2.5  \\\n",
      "0  2024-01-01 00:00:00+00:00  Brasilia  323.0  NaN  23.8  2.8  42.0   12.0   \n",
      "1  2024-01-01 01:00:00+00:00  Brasilia  318.0  NaN  21.9  2.7  40.0   12.5   \n",
      "2  2024-01-01 02:00:00+00:00  Brasilia  309.0  NaN  19.2  2.6  39.0   12.1   \n",
      "3  2024-01-01 03:00:00+00:00  Brasilia  295.0  NaN  16.3  2.4  38.0   11.4   \n",
      "4  2024-01-01 04:00:00+00:00  Brasilia  270.0  NaN  13.0  2.1  40.0   10.2   \n",
      "\n",
      "   PM10        AQI  \n",
      "0  17.1  16.800000  \n",
      "1  17.9  16.000000  \n",
      "2  17.3  15.599999  \n",
      "3  16.2  15.200000  \n",
      "4  14.6  16.000000  \n",
      "<class 'pandas.core.frame.DataFrame'>\n",
      "RangeIndex: 52704 entries, 0 to 52703\n",
      "Data columns (total 10 columns):\n",
      " #   Column  Non-Null Count  Dtype  \n",
      "---  ------  --------------  -----  \n",
      " 0   Date    52704 non-null  object \n",
      " 1   City    52704 non-null  object \n",
      " 2   CO      52704 non-null  float64\n",
      " 3   CO2     9648 non-null   float64\n",
      " 4   NO2     52704 non-null  float64\n",
      " 5   SO2     52704 non-null  float64\n",
      " 6   O3      52704 non-null  float64\n",
      " 7   PM2.5   52704 non-null  float64\n",
      " 8   PM10    52704 non-null  float64\n",
      " 9   AQI     52704 non-null  float64\n",
      "dtypes: float64(8), object(2)\n",
      "memory usage: 4.0+ MB\n",
      "None\n",
      "<bound method NDFrame.describe of                             Date      City     CO    CO2   NO2   SO2    O3  \\\n",
      "0      2024-01-01 00:00:00+00:00  Brasilia  323.0    NaN  23.8   2.8  42.0   \n",
      "1      2024-01-01 01:00:00+00:00  Brasilia  318.0    NaN  21.9   2.7  40.0   \n",
      "2      2024-01-01 02:00:00+00:00  Brasilia  309.0    NaN  19.2   2.6  39.0   \n",
      "3      2024-01-01 03:00:00+00:00  Brasilia  295.0    NaN  16.3   2.4  38.0   \n",
      "4      2024-01-01 04:00:00+00:00  Brasilia  270.0    NaN  13.0   2.1  40.0   \n",
      "...                          ...       ...    ...    ...   ...   ...   ...   \n",
      "52699  2024-12-31 19:00:00+00:00    Sydney  106.0  448.0  15.5   6.4  26.0   \n",
      "52700  2024-12-31 20:00:00+00:00    Sydney  112.0  449.0  15.7   8.3  29.0   \n",
      "52701  2024-12-31 21:00:00+00:00    Sydney  115.0  449.0  14.7   9.8  36.0   \n",
      "52702  2024-12-31 22:00:00+00:00    Sydney  113.0  447.0  11.8  10.7  53.0   \n",
      "52703  2024-12-31 23:00:00+00:00    Sydney  107.0  443.0   7.8  11.3  74.0   \n",
      "\n",
      "       PM2.5  PM10        AQI  \n",
      "0       12.0  17.1  16.800000  \n",
      "1       12.5  17.9  16.000000  \n",
      "2       12.1  17.3  15.599999  \n",
      "3       11.4  16.2  15.200000  \n",
      "4       10.2  14.6  16.000000  \n",
      "...      ...   ...        ...  \n",
      "52699    9.7  13.0  19.199997  \n",
      "52700   11.1  13.6  19.183330  \n",
      "52701   11.5  15.1  19.274998  \n",
      "52702   11.6  15.7  21.199999  \n",
      "52703   12.6  17.1  29.600000  \n",
      "\n",
      "[52704 rows x 10 columns]>\n"
     ]
    }
   ],
   "source": [
    "import pandas as pd \n",
    "\n",
    "rutaDatos = '../Data/Air_Quality.csv'\n",
    "dataFrame = pd.read_csv(rutaDatos)\n",
    "\n",
    "#Info bascia para observar el paronama de los datos\n",
    "print (dataFrame.head())\n",
    "print (dataFrame.info())\n",
    "print (dataFrame.describe)"
   ]
  }
 ],
 "metadata": {
  "kernelspec": {
   "display_name": "base",
   "language": "python",
   "name": "python3"
  },
  "language_info": {
   "codemirror_mode": {
    "name": "ipython",
    "version": 3
   },
   "file_extension": ".py",
   "mimetype": "text/x-python",
   "name": "python",
   "nbconvert_exporter": "python",
   "pygments_lexer": "ipython3",
   "version": "3.12.7"
  }
 },
 "nbformat": 4,
 "nbformat_minor": 5
}
