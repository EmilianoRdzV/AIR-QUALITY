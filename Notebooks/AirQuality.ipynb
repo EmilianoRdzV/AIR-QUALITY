{
 "cells": [
  {
   "cell_type": "markdown",
   "id": "c4c0daf7",
   "metadata": {},
   "source": [
    "[![UAEM](https://www.uaem.mx/fcaei/images/uaem.png)](https://www.uaem.mx/fcaei/moca.html)\n",
    "[![Python 3.9](https://img.shields.io/badge/Python-3.9-blue.svg)](https://www.python.org/downloads/release/python-390/)\n",
    "[![Maintenance](https://img.shields.io/badge/Maintained%3F-yes-green.svg)](https://github.com/EmilianoRdzV/AIR-QUALITY)\n",
    "\n",
    "# Proyecto: Análisis y Predicción de la Calidad del Aire con Machine Learning\n",
    "\n",
    "**Autor:** [Emiliano Rodriguez Villegas](https://github.com/EmilianoRdzV)\n",
    "**Fecha:** 06 de Junio de 2025\n",
    "**Versión:** 1.0\n",
    "\n",
    "---\n",
    "\n",
    "## 1. Introducción y Motivación\n",
    "\n",
    "Este notebook presenta un análisis completo de la calidad del aire en seis metrópolis globales. El objetivo es aplicar un flujo de trabajo de ciencia de datos, desde la limpieza de datos hasta la construcción de un modelo de Machine Learning para clasificar la calidad del aire.\n",
    "\n",
    "La elección de este conjunto de datos se basa en su **volumen**, la **diversidad geográfica** de las ciudades, la **riqueza de sus características** y su **componente temporal**, que lo hacen ideal para el análisis y la modelización.\n",
    "\n",
    "---\n",
    "\n",
    "### Índice General del Notebook\n",
    "\n",
    "1.  [**Metodología y Preparación**](#fase-1)\n",
    "    * [1.1. Diagrama de Flujo del Proyecto](#1-1)\n",
    "    * [1.2. Carga de Datos desde URL](#1-2)\n",
    "    * [1.3. Preprocesamiento y Limpieza](#1-3)\n",
    "    * [1.4. Análisis Estadístico Descriptivo](#1-4)\n",
    "2.  [**Modelado de Clasificación**](#fase-2)\n",
    "    * [2.1. Preparación de Datos para el Modelo](#2-1)\n",
    "    * [2.2. Entrenamiento del Modelo (Perceptrón / Adaline)](#2-2)\n",
    "    * [2.3. Visualización de Resultados](#2-3)\n",
    "3.  [**Discusión y Trabajo Futuro**](#fase-3)\n",
    "    * [3.1. Análisis del Modelo y Propuestas de Mejora](#3-1)\n",
    "    * [3.2. Comparación con la Literatura](#3-2)\n",
    "    * [3.3. Trabajo Futuro](#3-3)"
   ]
  },
  {
   "cell_type": "markdown",
   "id": "c288ea8d",
   "metadata": {},
   "source": [
    "## <a id=\"fase-1\"></a>1. Metodología y Preparación\n",
    "\n",
    "### <a id=\"1-1\"></a>1.1. Diagrama de Flujo del Proyecto\n",
    "\n",
    "A continuación, se presenta un diagrama de flujo que resume visualmente la metodología y los pasos a seguir en este proyecto, desde la adquisición de los datos hasta la obtención de conclusiones."
   ]
  },
  {
   "cell_type": "markdown",
   "id": "e2ffa172",
   "metadata": {},
   "source": [
    "![Diagrama de Flujo del Proyecto](../Data/FTrabajo.png)"
   ]
  },
  {
   "cell_type": "markdown",
   "id": "3af505a2",
   "metadata": {},
   "source": [
    "### <a id=\"1-2\"></a>1.2. Carga de Datos desde URL\n",
    "\n",
    "\n",
    "Se procederá a cargar el conjunto de datos en un DataFrame de `pandas`. URL de la DB: https://www.kaggle.com/datasets/youssefelebiary/air-quality-2024/data\n",
    "\n",
    "\n",
    "*** Se intento leer los datos directamente desde una URL pero por el volumen de datos no se realizo, no todas las DBs lo permiten, asi que se opto por descargar la DB y trabajarla desde el alojamiennto local en ../Data/Air_Quality.csv"
   ]
  },
  {
   "cell_type": "markdown",
   "id": "c4e1f966",
   "metadata": {},
   "source": [
    "### Carga de Datos"
   ]
  },
  {
   "cell_type": "code",
   "execution_count": 284,
   "id": "09c2a417",
   "metadata": {},
   "outputs": [
    {
     "name": "stdout",
     "output_type": "stream",
     "text": [
      "                        Date      City     CO  CO2   NO2  SO2    O3  PM2.5  \\\n",
      "0  2024-01-01 00:00:00+00:00  Brasilia  323.0  NaN  23.8  2.8  42.0   12.0   \n",
      "1  2024-01-01 01:00:00+00:00  Brasilia  318.0  NaN  21.9  2.7  40.0   12.5   \n",
      "2  2024-01-01 02:00:00+00:00  Brasilia  309.0  NaN  19.2  2.6  39.0   12.1   \n",
      "3  2024-01-01 03:00:00+00:00  Brasilia  295.0  NaN  16.3  2.4  38.0   11.4   \n",
      "4  2024-01-01 04:00:00+00:00  Brasilia  270.0  NaN  13.0  2.1  40.0   10.2   \n",
      "\n",
      "   PM10        AQI  \n",
      "0  17.1  16.800000  \n",
      "1  17.9  16.000000  \n",
      "2  17.3  15.599999  \n",
      "3  16.2  15.200000  \n",
      "4  14.6  16.000000  \n"
     ]
    }
   ],
   "source": [
    "import pandas as pd \n",
    "\n",
    "rutaDatos = '../Data/Air_Quality.csv'\n",
    "dataFrame = pd.read_csv(rutaDatos)\n",
    "\n",
    "#Info bascia para observar el paronama de los datos\n",
    "print (dataFrame.head())\n"
   ]
  },
  {
   "cell_type": "markdown",
   "id": "07abeb3f",
   "metadata": {},
   "source": [
    "### <a id=\"1-3\"></a>1.3. Preprocesamiento y Limpieza\n",
    "\n",
    "\n",
    "En esta etapa, abordaremos los problemas comunes en los datos crudos para asegurar su calidad. El proceso se dividirá en:\n",
    "1.  Identificar la cantidad de valores nulos (NaN).\n",
    "2.  Imputar (rellenar) los valores nulos con una estrategia adecuada.\n",
    "3.  Verificar y eliminar filas duplicadas.\n",
    "\n",
    "**Justificación del Procedimiento:** No se eliminarán las filas con valores NaN directamente, ya que esto podría resultar en una pérdida significativa de datos secuenciales, lo cual es vital para el análisis de series temporales. En su lugar, se optará por la **interpolación lineal**, un método que estima un valor faltante basándose en los valores numéricos que lo rodean, asumiendo una progresión constante entre ellos. Esta es una técnica robusta para datos de sensores como los de calidad del aire."
   ]
  },
  {
   "cell_type": "code",
   "execution_count": 285,
   "id": "dff1d125",
   "metadata": {},
   "outputs": [
    {
     "name": "stdout",
     "output_type": "stream",
     "text": [
      "* Conteo de Valores Nulos ANTES del preprocesamiento\n",
      "Date         0\n",
      "City         0\n",
      "CO           0\n",
      "CO2      43056\n",
      "NO2          0\n",
      "SO2          0\n",
      "O3           0\n",
      "PM2.5        0\n",
      "PM10         0\n",
      "AQI          0\n",
      "dtype: int64\n",
      "\n",
      "* Conteo de Valores Nulos DESPUÉS de la imputación\n",
      "Date     0\n",
      "City     0\n",
      "CO       0\n",
      "CO2      0\n",
      "NO2      0\n",
      "SO2      0\n",
      "O3       0\n",
      "PM2.5    0\n",
      "PM10     0\n",
      "AQI      0\n",
      "dtype: int64\n"
     ]
    },
    {
     "name": "stderr",
     "output_type": "stream",
     "text": [
      "C:\\Users\\evrdz\\AppData\\Local\\Temp\\ipykernel_10524\\3830640125.py:8: FutureWarning: DataFrame.interpolate with object dtype is deprecated and will raise in a future version. Call obj.infer_objects(copy=False) before interpolating instead.\n",
      "  dataFrame.interpolate(method='linear', inplace=True)\n",
      "C:\\Users\\evrdz\\AppData\\Local\\Temp\\ipykernel_10524\\3830640125.py:9: FutureWarning: DataFrame.fillna with 'method' is deprecated and will raise in a future version. Use obj.ffill() or obj.bfill() instead.\n",
      "  dataFrame.fillna(method='bfill', inplace=True)\n"
     ]
    }
   ],
   "source": [
    "# 1: Revisión de Valores Nulos (NaN)\n",
    "# Contamos cuántos valores nulos hay en cada columna para entender la magnitud del problema.\n",
    "print(\"* Conteo de Valores Nulos ANTES del preprocesamiento\")\n",
    "print(dataFrame.isnull().sum())\n",
    "\n",
    "# 2: Imputación de Valores por Interpolación Lineal\n",
    "# Rellenamos los valores NaN usando el método de interpolación lineal.\n",
    "dataFrame.interpolate(method='linear', inplace=True)\n",
    "dataFrame.fillna(method='bfill', inplace=True)\n",
    "\n",
    "print(\"\\n* Conteo de Valores Nulos DESPUÉS de la imputación\")\n",
    "print(dataFrame.isnull().sum())"
   ]
  },
  {
   "cell_type": "code",
   "execution_count": 286,
   "id": "25a7bd45",
   "metadata": {},
   "outputs": [
    {
     "name": "stdout",
     "output_type": "stream",
     "text": [
      "\n",
      "Número de filas duplicadas encontradas: 0\n",
      "\n",
      " Preprocesamiento y limpieza de datos comletado.\n"
     ]
    }
   ],
   "source": [
    "# 3: Verificación y Eliminación de Duplicados\n",
    "print(f\"\\nNúmero de filas duplicadas encontradas: {dataFrame.duplicated().sum()}\")\n",
    "\n",
    "# Fila duplicada, se elimina.\n",
    "dataFrame.drop_duplicates(inplace=True)\n",
    "\n",
    "print(\"\\n Preprocesamiento y limpieza de datos comletado.\")"
   ]
  },
  {
   "cell_type": "markdown",
   "id": "2f2d287d",
   "metadata": {},
   "source": [
    "### Corregir el formato de la columna de fecha \n",
    "Convertiremos la columna de fecha al tipo `datetime`, despues se convertira en el index del Data Frame "
   ]
  },
  {
   "cell_type": "code",
   "execution_count": 287,
   "id": "b2eeda12",
   "metadata": {},
   "outputs": [
    {
     "name": "stdout",
     "output_type": "stream",
     "text": [
      "--- Info después de procesar la fecha ---\n",
      "<class 'pandas.core.frame.DataFrame'>\n",
      "DatetimeIndex: 52704 entries, 2024-01-01 00:00:00+00:00 to 2024-12-31 23:00:00+00:00\n",
      "Data columns (total 9 columns):\n",
      " #   Column  Non-Null Count  Dtype  \n",
      "---  ------  --------------  -----  \n",
      " 0   City    52704 non-null  object \n",
      " 1   CO      52704 non-null  float64\n",
      " 2   CO2     52704 non-null  float64\n",
      " 3   NO2     52704 non-null  float64\n",
      " 4   SO2     52704 non-null  float64\n",
      " 5   O3      52704 non-null  float64\n",
      " 6   PM2.5   52704 non-null  float64\n",
      " 7   PM10    52704 non-null  float64\n",
      " 8   AQI     52704 non-null  float64\n",
      "dtypes: float64(8), object(1)\n",
      "memory usage: 4.0+ MB\n",
      "\n",
      "--- DataFrame con índice de fecha ---\n"
     ]
    },
    {
     "data": {
      "application/vnd.microsoft.datawrangler.viewer.v0+json": {
       "columns": [
        {
         "name": "Date",
         "rawType": "datetime64[ns, UTC]",
         "type": "unknown"
        },
        {
         "name": "City",
         "rawType": "object",
         "type": "string"
        },
        {
         "name": "CO",
         "rawType": "float64",
         "type": "float"
        },
        {
         "name": "CO2",
         "rawType": "float64",
         "type": "float"
        },
        {
         "name": "NO2",
         "rawType": "float64",
         "type": "float"
        },
        {
         "name": "SO2",
         "rawType": "float64",
         "type": "float"
        },
        {
         "name": "O3",
         "rawType": "float64",
         "type": "float"
        },
        {
         "name": "PM2.5",
         "rawType": "float64",
         "type": "float"
        },
        {
         "name": "PM10",
         "rawType": "float64",
         "type": "float"
        },
        {
         "name": "AQI",
         "rawType": "float64",
         "type": "float"
        }
       ],
       "ref": "853d4ccc-139c-4575-885f-6e3b24713127",
       "rows": [
        [
         "2024-01-01 00:00:00+00:00",
         "Brasilia",
         "323.0",
         "471.0",
         "23.8",
         "2.8",
         "42.0",
         "12.0",
         "17.1",
         "16.8"
        ],
        [
         "2024-01-01 01:00:00+00:00",
         "Brasilia",
         "318.0",
         "471.0",
         "21.9",
         "2.7",
         "40.0",
         "12.5",
         "17.9",
         "16.0"
        ],
        [
         "2024-01-01 02:00:00+00:00",
         "Brasilia",
         "309.0",
         "471.0",
         "19.2",
         "2.6",
         "39.0",
         "12.1",
         "17.3",
         "15.599999"
        ],
        [
         "2024-01-01 03:00:00+00:00",
         "Brasilia",
         "295.0",
         "471.0",
         "16.3",
         "2.4",
         "38.0",
         "11.4",
         "16.2",
         "15.2"
        ],
        [
         "2024-01-01 04:00:00+00:00",
         "Brasilia",
         "270.0",
         "471.0",
         "13.0",
         "2.1",
         "40.0",
         "10.2",
         "14.6",
         "16.0"
        ]
       ],
       "shape": {
        "columns": 9,
        "rows": 5
       }
      },
      "text/html": [
       "<div>\n",
       "<style scoped>\n",
       "    .dataframe tbody tr th:only-of-type {\n",
       "        vertical-align: middle;\n",
       "    }\n",
       "\n",
       "    .dataframe tbody tr th {\n",
       "        vertical-align: top;\n",
       "    }\n",
       "\n",
       "    .dataframe thead th {\n",
       "        text-align: right;\n",
       "    }\n",
       "</style>\n",
       "<table border=\"1\" class=\"dataframe\">\n",
       "  <thead>\n",
       "    <tr style=\"text-align: right;\">\n",
       "      <th></th>\n",
       "      <th>City</th>\n",
       "      <th>CO</th>\n",
       "      <th>CO2</th>\n",
       "      <th>NO2</th>\n",
       "      <th>SO2</th>\n",
       "      <th>O3</th>\n",
       "      <th>PM2.5</th>\n",
       "      <th>PM10</th>\n",
       "      <th>AQI</th>\n",
       "    </tr>\n",
       "    <tr>\n",
       "      <th>Date</th>\n",
       "      <th></th>\n",
       "      <th></th>\n",
       "      <th></th>\n",
       "      <th></th>\n",
       "      <th></th>\n",
       "      <th></th>\n",
       "      <th></th>\n",
       "      <th></th>\n",
       "      <th></th>\n",
       "    </tr>\n",
       "  </thead>\n",
       "  <tbody>\n",
       "    <tr>\n",
       "      <th>2024-01-01 00:00:00+00:00</th>\n",
       "      <td>Brasilia</td>\n",
       "      <td>323.0</td>\n",
       "      <td>471.0</td>\n",
       "      <td>23.8</td>\n",
       "      <td>2.8</td>\n",
       "      <td>42.0</td>\n",
       "      <td>12.0</td>\n",
       "      <td>17.1</td>\n",
       "      <td>16.800000</td>\n",
       "    </tr>\n",
       "    <tr>\n",
       "      <th>2024-01-01 01:00:00+00:00</th>\n",
       "      <td>Brasilia</td>\n",
       "      <td>318.0</td>\n",
       "      <td>471.0</td>\n",
       "      <td>21.9</td>\n",
       "      <td>2.7</td>\n",
       "      <td>40.0</td>\n",
       "      <td>12.5</td>\n",
       "      <td>17.9</td>\n",
       "      <td>16.000000</td>\n",
       "    </tr>\n",
       "    <tr>\n",
       "      <th>2024-01-01 02:00:00+00:00</th>\n",
       "      <td>Brasilia</td>\n",
       "      <td>309.0</td>\n",
       "      <td>471.0</td>\n",
       "      <td>19.2</td>\n",
       "      <td>2.6</td>\n",
       "      <td>39.0</td>\n",
       "      <td>12.1</td>\n",
       "      <td>17.3</td>\n",
       "      <td>15.599999</td>\n",
       "    </tr>\n",
       "    <tr>\n",
       "      <th>2024-01-01 03:00:00+00:00</th>\n",
       "      <td>Brasilia</td>\n",
       "      <td>295.0</td>\n",
       "      <td>471.0</td>\n",
       "      <td>16.3</td>\n",
       "      <td>2.4</td>\n",
       "      <td>38.0</td>\n",
       "      <td>11.4</td>\n",
       "      <td>16.2</td>\n",
       "      <td>15.200000</td>\n",
       "    </tr>\n",
       "    <tr>\n",
       "      <th>2024-01-01 04:00:00+00:00</th>\n",
       "      <td>Brasilia</td>\n",
       "      <td>270.0</td>\n",
       "      <td>471.0</td>\n",
       "      <td>13.0</td>\n",
       "      <td>2.1</td>\n",
       "      <td>40.0</td>\n",
       "      <td>10.2</td>\n",
       "      <td>14.6</td>\n",
       "      <td>16.000000</td>\n",
       "    </tr>\n",
       "  </tbody>\n",
       "</table>\n",
       "</div>"
      ],
      "text/plain": [
       "                               City     CO    CO2   NO2  SO2    O3  PM2.5  \\\n",
       "Date                                                                        \n",
       "2024-01-01 00:00:00+00:00  Brasilia  323.0  471.0  23.8  2.8  42.0   12.0   \n",
       "2024-01-01 01:00:00+00:00  Brasilia  318.0  471.0  21.9  2.7  40.0   12.5   \n",
       "2024-01-01 02:00:00+00:00  Brasilia  309.0  471.0  19.2  2.6  39.0   12.1   \n",
       "2024-01-01 03:00:00+00:00  Brasilia  295.0  471.0  16.3  2.4  38.0   11.4   \n",
       "2024-01-01 04:00:00+00:00  Brasilia  270.0  471.0  13.0  2.1  40.0   10.2   \n",
       "\n",
       "                           PM10        AQI  \n",
       "Date                                        \n",
       "2024-01-01 00:00:00+00:00  17.1  16.800000  \n",
       "2024-01-01 01:00:00+00:00  17.9  16.000000  \n",
       "2024-01-01 02:00:00+00:00  17.3  15.599999  \n",
       "2024-01-01 03:00:00+00:00  16.2  15.200000  \n",
       "2024-01-01 04:00:00+00:00  14.6  16.000000  "
      ]
     },
     "metadata": {},
     "output_type": "display_data"
    }
   ],
   "source": [
    "# Columna de texto a un objeto de fecha y hora (datetime)\n",
    "dataFrame['Date'] = pd.to_datetime(dataFrame['Date'])\n",
    "\n",
    "# Establece la columna 'Date' como el nuevo índice del DataFrame\n",
    "dataFrame.set_index('Date', inplace=True)\n",
    "\n",
    "# Verificamos que el cambio se haya realizado correctamente\n",
    "print(\"--- Info después de procesar la fecha ---\")\n",
    "dataFrame.info()\n",
    "\n",
    "print(\"\\n--- DataFrame con índice de fecha ---\")\n",
    "display(dataFrame.head())"
   ]
  },
  {
   "cell_type": "markdown",
   "id": "ced57d55",
   "metadata": {},
   "source": [
    "### Guardamos el Data Frame ya procesado"
   ]
  },
  {
   "cell_type": "code",
   "execution_count": 288,
   "id": "543c9c0e",
   "metadata": {},
   "outputs": [
    {
     "name": "stdout",
     "output_type": "stream",
     "text": [
      "Los datos limpios se han guardado en: '../Data/AirQualityCleaned.csv'\n"
     ]
    }
   ],
   "source": [
    "# Ruta para el nuevo archivo CSV limpio\n",
    "rutaArchivoLimpio = '../Data/AirQualityCleaned.csv'\n",
    "\n",
    "# index=True asegura que la columna de fecha se guarde en el archivo\n",
    "dataFrame.to_csv(rutaArchivoLimpio, index=True)\n",
    "\n",
    "print(f\"Los datos limpios se han guardado en: '{rutaArchivoLimpio}'\")"
   ]
  },
  {
   "cell_type": "markdown",
   "id": "c970f262",
   "metadata": {},
   "source": [
    "### <a id=\"1-4\"></a>1.4. Análisis Estadístico Descriptivo\n",
    "\n",
    "Una vez que los datos están limpios, es útil obtener un resumen numérico de alto nivel de todas las características. Utilizaremos la función `.describe()` "
   ]
  },
  {
   "cell_type": "code",
   "execution_count": 289,
   "id": "3bfd3352",
   "metadata": {},
   "outputs": [
    {
     "data": {
      "application/vnd.microsoft.datawrangler.viewer.v0+json": {
       "columns": [
        {
         "name": "index",
         "rawType": "object",
         "type": "string"
        },
        {
         "name": "CO",
         "rawType": "float64",
         "type": "float"
        },
        {
         "name": "CO2",
         "rawType": "float64",
         "type": "float"
        },
        {
         "name": "NO2",
         "rawType": "float64",
         "type": "float"
        },
        {
         "name": "SO2",
         "rawType": "float64",
         "type": "float"
        },
        {
         "name": "O3",
         "rawType": "float64",
         "type": "float"
        },
        {
         "name": "PM2.5",
         "rawType": "float64",
         "type": "float"
        },
        {
         "name": "PM10",
         "rawType": "float64",
         "type": "float"
        },
        {
         "name": "AQI",
         "rawType": "float64",
         "type": "float"
        }
       ],
       "ref": "f360771f-24ea-466e-b238-49eca344e897",
       "rows": [
        [
         "count",
         "52704.0",
         "52704.0",
         "52704.0",
         "52704.0",
         "52704.0",
         "52704.0",
         "52704.0",
         "52704.0"
        ],
        [
         "mean",
         "258.2581208257438",
         "467.4419398907104",
         "24.102997874924103",
         "12.569869459623561",
         "60.025728597449906",
         "17.689930555555556",
         "35.643142835458406",
         "41.34933870882476"
        ],
        [
         "std",
         "159.5899529626559",
         "25.299259821395708",
         "19.3634434800783",
         "17.26662316712191",
         "38.2173484094212",
         "15.6700752607871",
         "48.44477422961995",
         "26.626149183110183"
        ],
        [
         "min",
         "52.0",
         "434.0",
         "0.0",
         "0.0",
         "0.0",
         "0.1",
         "0.1",
         "4.45"
        ],
        [
         "25%",
         "159.0",
         "449.0",
         "9.7",
         "2.3",
         "35.0",
         "6.9",
         "10.2",
         "22.8"
        ],
        [
         "50%",
         "213.0",
         "461.8394175839487",
         "18.9",
         "5.7",
         "54.0",
         "12.5",
         "18.9",
         "31.270834999999998"
        ],
        [
         "75%",
         "306.0",
         "471.5852027309461",
         "33.4",
         "16.8",
         "78.0",
         "23.0",
         "37.5",
         "57.702089"
        ],
        [
         "max",
         "2045.0",
         "884.0",
         "165.9",
         "239.7",
         "349.0",
         "129.5",
         "543.9",
         "196.63333"
        ]
       ],
       "shape": {
        "columns": 8,
        "rows": 8
       }
      },
      "text/html": [
       "<div>\n",
       "<style scoped>\n",
       "    .dataframe tbody tr th:only-of-type {\n",
       "        vertical-align: middle;\n",
       "    }\n",
       "\n",
       "    .dataframe tbody tr th {\n",
       "        vertical-align: top;\n",
       "    }\n",
       "\n",
       "    .dataframe thead th {\n",
       "        text-align: right;\n",
       "    }\n",
       "</style>\n",
       "<table border=\"1\" class=\"dataframe\">\n",
       "  <thead>\n",
       "    <tr style=\"text-align: right;\">\n",
       "      <th></th>\n",
       "      <th>CO</th>\n",
       "      <th>CO2</th>\n",
       "      <th>NO2</th>\n",
       "      <th>SO2</th>\n",
       "      <th>O3</th>\n",
       "      <th>PM2.5</th>\n",
       "      <th>PM10</th>\n",
       "      <th>AQI</th>\n",
       "    </tr>\n",
       "  </thead>\n",
       "  <tbody>\n",
       "    <tr>\n",
       "      <th>count</th>\n",
       "      <td>52704.000000</td>\n",
       "      <td>52704.000000</td>\n",
       "      <td>52704.000000</td>\n",
       "      <td>52704.000000</td>\n",
       "      <td>52704.000000</td>\n",
       "      <td>52704.000000</td>\n",
       "      <td>52704.000000</td>\n",
       "      <td>52704.000000</td>\n",
       "    </tr>\n",
       "    <tr>\n",
       "      <th>mean</th>\n",
       "      <td>258.258121</td>\n",
       "      <td>467.441940</td>\n",
       "      <td>24.102998</td>\n",
       "      <td>12.569869</td>\n",
       "      <td>60.025729</td>\n",
       "      <td>17.689931</td>\n",
       "      <td>35.643143</td>\n",
       "      <td>41.349339</td>\n",
       "    </tr>\n",
       "    <tr>\n",
       "      <th>std</th>\n",
       "      <td>159.589953</td>\n",
       "      <td>25.299260</td>\n",
       "      <td>19.363443</td>\n",
       "      <td>17.266623</td>\n",
       "      <td>38.217348</td>\n",
       "      <td>15.670075</td>\n",
       "      <td>48.444774</td>\n",
       "      <td>26.626149</td>\n",
       "    </tr>\n",
       "    <tr>\n",
       "      <th>min</th>\n",
       "      <td>52.000000</td>\n",
       "      <td>434.000000</td>\n",
       "      <td>0.000000</td>\n",
       "      <td>0.000000</td>\n",
       "      <td>0.000000</td>\n",
       "      <td>0.100000</td>\n",
       "      <td>0.100000</td>\n",
       "      <td>4.450000</td>\n",
       "    </tr>\n",
       "    <tr>\n",
       "      <th>25%</th>\n",
       "      <td>159.000000</td>\n",
       "      <td>449.000000</td>\n",
       "      <td>9.700000</td>\n",
       "      <td>2.300000</td>\n",
       "      <td>35.000000</td>\n",
       "      <td>6.900000</td>\n",
       "      <td>10.200000</td>\n",
       "      <td>22.800000</td>\n",
       "    </tr>\n",
       "    <tr>\n",
       "      <th>50%</th>\n",
       "      <td>213.000000</td>\n",
       "      <td>461.839418</td>\n",
       "      <td>18.900000</td>\n",
       "      <td>5.700000</td>\n",
       "      <td>54.000000</td>\n",
       "      <td>12.500000</td>\n",
       "      <td>18.900000</td>\n",
       "      <td>31.270835</td>\n",
       "    </tr>\n",
       "    <tr>\n",
       "      <th>75%</th>\n",
       "      <td>306.000000</td>\n",
       "      <td>471.585203</td>\n",
       "      <td>33.400000</td>\n",
       "      <td>16.800000</td>\n",
       "      <td>78.000000</td>\n",
       "      <td>23.000000</td>\n",
       "      <td>37.500000</td>\n",
       "      <td>57.702089</td>\n",
       "    </tr>\n",
       "    <tr>\n",
       "      <th>max</th>\n",
       "      <td>2045.000000</td>\n",
       "      <td>884.000000</td>\n",
       "      <td>165.900000</td>\n",
       "      <td>239.700000</td>\n",
       "      <td>349.000000</td>\n",
       "      <td>129.500000</td>\n",
       "      <td>543.900000</td>\n",
       "      <td>196.633330</td>\n",
       "    </tr>\n",
       "  </tbody>\n",
       "</table>\n",
       "</div>"
      ],
      "text/plain": [
       "                 CO           CO2           NO2           SO2            O3  \\\n",
       "count  52704.000000  52704.000000  52704.000000  52704.000000  52704.000000   \n",
       "mean     258.258121    467.441940     24.102998     12.569869     60.025729   \n",
       "std      159.589953     25.299260     19.363443     17.266623     38.217348   \n",
       "min       52.000000    434.000000      0.000000      0.000000      0.000000   \n",
       "25%      159.000000    449.000000      9.700000      2.300000     35.000000   \n",
       "50%      213.000000    461.839418     18.900000      5.700000     54.000000   \n",
       "75%      306.000000    471.585203     33.400000     16.800000     78.000000   \n",
       "max     2045.000000    884.000000    165.900000    239.700000    349.000000   \n",
       "\n",
       "              PM2.5          PM10           AQI  \n",
       "count  52704.000000  52704.000000  52704.000000  \n",
       "mean      17.689931     35.643143     41.349339  \n",
       "std       15.670075     48.444774     26.626149  \n",
       "min        0.100000      0.100000      4.450000  \n",
       "25%        6.900000     10.200000     22.800000  \n",
       "50%       12.500000     18.900000     31.270835  \n",
       "75%       23.000000     37.500000     57.702089  \n",
       "max      129.500000    543.900000    196.633330  "
      ]
     },
     "metadata": {},
     "output_type": "display_data"
    }
   ],
   "source": [
    "# Estadísticas descriptiva\n",
    "# Media, desviación estándar, valores mínimos y máximos, y los percentiles.\n",
    "estadisticas = dataFrame.describe()\n",
    "\n",
    "display(estadisticas)"
   ]
  },
  {
   "cell_type": "markdown",
   "id": "5c37043e",
   "metadata": {},
   "source": [
    "## <a id=\"fase-2\"></a>2. Fase 2: Análisis Exploratorio de Datos (EDA)\n",
    "\n",
    "Con los datos ya limpios, podemos comenzar a explorarlos para entender sus características principales. En esta fase, buscaremos patrones y relaciones a través de resúmenes estadísticos y, fundamentalmente, visualizaciones gráficas. `matplotlib` `seaborn`\n",
    "\n",
    "---\n",
    "\n",
    "### <a id=\"2-1\"></a>2.1. Análisis Descriptivo General\n",
    "\n",
    "Aunque ya vimos una tabla de estadísticas en la fase anterior, las visualizaciones nos permiten entender la **distribución** de los datos de una manera más intuitiva. Crearemos histogramas para las columnas más importantes (AQI y los principales contaminantes) para observar cómo se reparten sus valores: si son simétricos, si tienen sesgos, etc."
   ]
  },
  {
   "cell_type": "code",
   "execution_count": 290,
   "id": "6672b6d6",
   "metadata": {},
   "outputs": [
    {
     "data": {
      "image/png": "[encoded data removed]",
      "text/plain": [
       "<Figure size 1500x1000 with 6 Axes>"
      ]
     },
     "metadata": {},
     "output_type": "display_data"
    }
   ],
   "source": [
    "import matplotlib.pyplot as plt\n",
    "import seaborn as sns\n",
    "\n",
    "# Configurar el estilo de los gráficos para que se vean mejor\n",
    "sns.set_style(\"whitegrid\")\n",
    "plt.rcParams['figure.figsize'] = (15, 10)\n",
    "\n",
    "# Columnas más relevantes para visualizar\n",
    "columnasVisualizar = ['AQI', 'PM2.5', 'PM10', 'NO2', 'CO', 'O3']\n",
    "\n",
    "# Histograma para cada columna seleccionada\n",
    "dataFrame[columnasVisualizar].hist()\n",
    "\n",
    "plt.tight_layout()\n",
    "plt.show()"
   ]
  }
 ],
 "metadata": {
  "kernelspec": {
   "display_name": "base",
   "language": "python",
   "name": "python3"
  },
  "language_info": {
   "codemirror_mode": {
    "name": "ipython",
    "version": 3
   },
   "file_extension": ".py",
   "mimetype": "text/x-python",
   "name": "python",
   "nbconvert_exporter": "python",
   "pygments_lexer": "ipython3",
   "version": "3.12.7"
  }
 },
 "nbformat": 4,
 "nbformat_minor": 5
}
